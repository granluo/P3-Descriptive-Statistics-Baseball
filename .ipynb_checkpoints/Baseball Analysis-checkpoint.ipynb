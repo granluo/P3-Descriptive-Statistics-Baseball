{
 "cells": [
  {
   "cell_type": "markdown",
   "metadata": {},
   "source": [
    "# Baseball"
   ]
  },
  {
   "cell_type": "markdown",
   "metadata": {},
   "source": [
    "We all know that a baseball club has to spend tons of money to hire players for wins. In terms of statistics, I will try to find out three questions:\n",
    "    1. What does a team with highest win rate look like? Is it realted to how much the team paid for players or the number of bases it had?\n",
    "    2. Can a team with low salary payments win a lot?\n",
    "    \n",
    "I will use three datasets, Batting, Salaries and Teams, to try to find out answeres of these two problem.\n",
    "\n",
    "I will read these three datasets and have a glance at it."
   ]
  },
  {
   "cell_type": "code",
   "execution_count": 1,
   "metadata": {
    "collapsed": true
   },
   "outputs": [],
   "source": [
    "import pandas as pd\n",
    "import numpy as np\n",
    "batting_df = pd.read_csv('Batting.csv')\n",
    "salaries_df = pd.read_csv('Salaries.csv')\n",
    "teams_df = pd.read_csv('Teams.csv')\n"
   ]
  },
  {
   "cell_type": "markdown",
   "metadata": {},
   "source": [
    "After loading all three datasets, I can see columns of yearID and teamID in common, and the batting table and the salary table have playerID in common as well. We can merge tables based on these common columns later on."
   ]
  },
  {
   "cell_type": "code",
   "execution_count": 2,
   "metadata": {},
   "outputs": [
    {
     "data": {
      "text/html": [
       "<div>\n",
       "<style>\n",
       "    .dataframe thead tr:only-child th {\n",
       "        text-align: right;\n",
       "    }\n",
       "\n",
       "    .dataframe thead th {\n",
       "        text-align: left;\n",
       "    }\n",
       "\n",
       "    .dataframe tbody tr th {\n",
       "        vertical-align: top;\n",
       "    }\n",
       "</style>\n",
       "<table border=\"1\" class=\"dataframe\">\n",
       "  <thead>\n",
       "    <tr style=\"text-align: right;\">\n",
       "      <th></th>\n",
       "      <th>playerID</th>\n",
       "      <th>yearID</th>\n",
       "      <th>stint</th>\n",
       "      <th>teamID</th>\n",
       "      <th>lgID</th>\n",
       "      <th>G</th>\n",
       "      <th>AB</th>\n",
       "      <th>R</th>\n",
       "      <th>H</th>\n",
       "      <th>2B</th>\n",
       "      <th>...</th>\n",
       "      <th>RBI</th>\n",
       "      <th>SB</th>\n",
       "      <th>CS</th>\n",
       "      <th>BB</th>\n",
       "      <th>SO</th>\n",
       "      <th>IBB</th>\n",
       "      <th>HBP</th>\n",
       "      <th>SH</th>\n",
       "      <th>SF</th>\n",
       "      <th>GIDP</th>\n",
       "    </tr>\n",
       "  </thead>\n",
       "  <tbody>\n",
       "    <tr>\n",
       "      <th>0</th>\n",
       "      <td>abercda01</td>\n",
       "      <td>1871</td>\n",
       "      <td>1</td>\n",
       "      <td>TRO</td>\n",
       "      <td>NaN</td>\n",
       "      <td>1</td>\n",
       "      <td>4</td>\n",
       "      <td>0</td>\n",
       "      <td>0</td>\n",
       "      <td>0</td>\n",
       "      <td>...</td>\n",
       "      <td>0.0</td>\n",
       "      <td>0.0</td>\n",
       "      <td>0.0</td>\n",
       "      <td>0</td>\n",
       "      <td>0.0</td>\n",
       "      <td>NaN</td>\n",
       "      <td>NaN</td>\n",
       "      <td>NaN</td>\n",
       "      <td>NaN</td>\n",
       "      <td>NaN</td>\n",
       "    </tr>\n",
       "    <tr>\n",
       "      <th>1</th>\n",
       "      <td>addybo01</td>\n",
       "      <td>1871</td>\n",
       "      <td>1</td>\n",
       "      <td>RC1</td>\n",
       "      <td>NaN</td>\n",
       "      <td>25</td>\n",
       "      <td>118</td>\n",
       "      <td>30</td>\n",
       "      <td>32</td>\n",
       "      <td>6</td>\n",
       "      <td>...</td>\n",
       "      <td>13.0</td>\n",
       "      <td>8.0</td>\n",
       "      <td>1.0</td>\n",
       "      <td>4</td>\n",
       "      <td>0.0</td>\n",
       "      <td>NaN</td>\n",
       "      <td>NaN</td>\n",
       "      <td>NaN</td>\n",
       "      <td>NaN</td>\n",
       "      <td>NaN</td>\n",
       "    </tr>\n",
       "    <tr>\n",
       "      <th>2</th>\n",
       "      <td>allisar01</td>\n",
       "      <td>1871</td>\n",
       "      <td>1</td>\n",
       "      <td>CL1</td>\n",
       "      <td>NaN</td>\n",
       "      <td>29</td>\n",
       "      <td>137</td>\n",
       "      <td>28</td>\n",
       "      <td>40</td>\n",
       "      <td>4</td>\n",
       "      <td>...</td>\n",
       "      <td>19.0</td>\n",
       "      <td>3.0</td>\n",
       "      <td>1.0</td>\n",
       "      <td>2</td>\n",
       "      <td>5.0</td>\n",
       "      <td>NaN</td>\n",
       "      <td>NaN</td>\n",
       "      <td>NaN</td>\n",
       "      <td>NaN</td>\n",
       "      <td>NaN</td>\n",
       "    </tr>\n",
       "    <tr>\n",
       "      <th>3</th>\n",
       "      <td>allisdo01</td>\n",
       "      <td>1871</td>\n",
       "      <td>1</td>\n",
       "      <td>WS3</td>\n",
       "      <td>NaN</td>\n",
       "      <td>27</td>\n",
       "      <td>133</td>\n",
       "      <td>28</td>\n",
       "      <td>44</td>\n",
       "      <td>10</td>\n",
       "      <td>...</td>\n",
       "      <td>27.0</td>\n",
       "      <td>1.0</td>\n",
       "      <td>1.0</td>\n",
       "      <td>0</td>\n",
       "      <td>2.0</td>\n",
       "      <td>NaN</td>\n",
       "      <td>NaN</td>\n",
       "      <td>NaN</td>\n",
       "      <td>NaN</td>\n",
       "      <td>NaN</td>\n",
       "    </tr>\n",
       "    <tr>\n",
       "      <th>4</th>\n",
       "      <td>ansonca01</td>\n",
       "      <td>1871</td>\n",
       "      <td>1</td>\n",
       "      <td>RC1</td>\n",
       "      <td>NaN</td>\n",
       "      <td>25</td>\n",
       "      <td>120</td>\n",
       "      <td>29</td>\n",
       "      <td>39</td>\n",
       "      <td>11</td>\n",
       "      <td>...</td>\n",
       "      <td>16.0</td>\n",
       "      <td>6.0</td>\n",
       "      <td>2.0</td>\n",
       "      <td>2</td>\n",
       "      <td>1.0</td>\n",
       "      <td>NaN</td>\n",
       "      <td>NaN</td>\n",
       "      <td>NaN</td>\n",
       "      <td>NaN</td>\n",
       "      <td>NaN</td>\n",
       "    </tr>\n",
       "  </tbody>\n",
       "</table>\n",
       "<p>5 rows × 22 columns</p>\n",
       "</div>"
      ],
      "text/plain": [
       "    playerID  yearID  stint teamID lgID   G   AB   R   H  2B  ...    RBI   SB  \\\n",
       "0  abercda01    1871      1    TRO  NaN   1    4   0   0   0  ...    0.0  0.0   \n",
       "1   addybo01    1871      1    RC1  NaN  25  118  30  32   6  ...   13.0  8.0   \n",
       "2  allisar01    1871      1    CL1  NaN  29  137  28  40   4  ...   19.0  3.0   \n",
       "3  allisdo01    1871      1    WS3  NaN  27  133  28  44  10  ...   27.0  1.0   \n",
       "4  ansonca01    1871      1    RC1  NaN  25  120  29  39  11  ...   16.0  6.0   \n",
       "\n",
       "    CS  BB   SO  IBB  HBP  SH  SF  GIDP  \n",
       "0  0.0   0  0.0  NaN  NaN NaN NaN   NaN  \n",
       "1  1.0   4  0.0  NaN  NaN NaN NaN   NaN  \n",
       "2  1.0   2  5.0  NaN  NaN NaN NaN   NaN  \n",
       "3  1.0   0  2.0  NaN  NaN NaN NaN   NaN  \n",
       "4  2.0   2  1.0  NaN  NaN NaN NaN   NaN  \n",
       "\n",
       "[5 rows x 22 columns]"
      ]
     },
     "execution_count": 2,
     "metadata": {},
     "output_type": "execute_result"
    }
   ],
   "source": [
    "batting_df.head()"
   ]
  },
  {
   "cell_type": "code",
   "execution_count": 3,
   "metadata": {},
   "outputs": [
    {
     "data": {
      "text/html": [
       "<div>\n",
       "<style>\n",
       "    .dataframe thead tr:only-child th {\n",
       "        text-align: right;\n",
       "    }\n",
       "\n",
       "    .dataframe thead th {\n",
       "        text-align: left;\n",
       "    }\n",
       "\n",
       "    .dataframe tbody tr th {\n",
       "        vertical-align: top;\n",
       "    }\n",
       "</style>\n",
       "<table border=\"1\" class=\"dataframe\">\n",
       "  <thead>\n",
       "    <tr style=\"text-align: right;\">\n",
       "      <th></th>\n",
       "      <th>yearID</th>\n",
       "      <th>teamID</th>\n",
       "      <th>lgID</th>\n",
       "      <th>playerID</th>\n",
       "      <th>salary</th>\n",
       "    </tr>\n",
       "  </thead>\n",
       "  <tbody>\n",
       "    <tr>\n",
       "      <th>0</th>\n",
       "      <td>1985</td>\n",
       "      <td>ATL</td>\n",
       "      <td>NL</td>\n",
       "      <td>barkele01</td>\n",
       "      <td>870000</td>\n",
       "    </tr>\n",
       "    <tr>\n",
       "      <th>1</th>\n",
       "      <td>1985</td>\n",
       "      <td>ATL</td>\n",
       "      <td>NL</td>\n",
       "      <td>bedrost01</td>\n",
       "      <td>550000</td>\n",
       "    </tr>\n",
       "    <tr>\n",
       "      <th>2</th>\n",
       "      <td>1985</td>\n",
       "      <td>ATL</td>\n",
       "      <td>NL</td>\n",
       "      <td>benedbr01</td>\n",
       "      <td>545000</td>\n",
       "    </tr>\n",
       "    <tr>\n",
       "      <th>3</th>\n",
       "      <td>1985</td>\n",
       "      <td>ATL</td>\n",
       "      <td>NL</td>\n",
       "      <td>campri01</td>\n",
       "      <td>633333</td>\n",
       "    </tr>\n",
       "    <tr>\n",
       "      <th>4</th>\n",
       "      <td>1985</td>\n",
       "      <td>ATL</td>\n",
       "      <td>NL</td>\n",
       "      <td>ceronri01</td>\n",
       "      <td>625000</td>\n",
       "    </tr>\n",
       "  </tbody>\n",
       "</table>\n",
       "</div>"
      ],
      "text/plain": [
       "   yearID teamID lgID   playerID  salary\n",
       "0    1985    ATL   NL  barkele01  870000\n",
       "1    1985    ATL   NL  bedrost01  550000\n",
       "2    1985    ATL   NL  benedbr01  545000\n",
       "3    1985    ATL   NL   campri01  633333\n",
       "4    1985    ATL   NL  ceronri01  625000"
      ]
     },
     "execution_count": 3,
     "metadata": {},
     "output_type": "execute_result"
    }
   ],
   "source": [
    "salaries_df.head()"
   ]
  },
  {
   "cell_type": "code",
   "execution_count": 4,
   "metadata": {
    "scrolled": true
   },
   "outputs": [
    {
     "data": {
      "text/html": [
       "<div>\n",
       "<style>\n",
       "    .dataframe thead tr:only-child th {\n",
       "        text-align: right;\n",
       "    }\n",
       "\n",
       "    .dataframe thead th {\n",
       "        text-align: left;\n",
       "    }\n",
       "\n",
       "    .dataframe tbody tr th {\n",
       "        vertical-align: top;\n",
       "    }\n",
       "</style>\n",
       "<table border=\"1\" class=\"dataframe\">\n",
       "  <thead>\n",
       "    <tr style=\"text-align: right;\">\n",
       "      <th></th>\n",
       "      <th>yearID</th>\n",
       "      <th>lgID</th>\n",
       "      <th>teamID</th>\n",
       "      <th>franchID</th>\n",
       "      <th>divID</th>\n",
       "      <th>Rank</th>\n",
       "      <th>G</th>\n",
       "      <th>Ghome</th>\n",
       "      <th>W</th>\n",
       "      <th>L</th>\n",
       "      <th>...</th>\n",
       "      <th>DP</th>\n",
       "      <th>FP</th>\n",
       "      <th>name</th>\n",
       "      <th>park</th>\n",
       "      <th>attendance</th>\n",
       "      <th>BPF</th>\n",
       "      <th>PPF</th>\n",
       "      <th>teamIDBR</th>\n",
       "      <th>teamIDlahman45</th>\n",
       "      <th>teamIDretro</th>\n",
       "    </tr>\n",
       "  </thead>\n",
       "  <tbody>\n",
       "    <tr>\n",
       "      <th>0</th>\n",
       "      <td>1871</td>\n",
       "      <td>NaN</td>\n",
       "      <td>BS1</td>\n",
       "      <td>BNA</td>\n",
       "      <td>NaN</td>\n",
       "      <td>3</td>\n",
       "      <td>31</td>\n",
       "      <td>NaN</td>\n",
       "      <td>20</td>\n",
       "      <td>10</td>\n",
       "      <td>...</td>\n",
       "      <td>NaN</td>\n",
       "      <td>0.838</td>\n",
       "      <td>Boston Red Stockings</td>\n",
       "      <td>South End Grounds I</td>\n",
       "      <td>NaN</td>\n",
       "      <td>103</td>\n",
       "      <td>98</td>\n",
       "      <td>BOS</td>\n",
       "      <td>BS1</td>\n",
       "      <td>BS1</td>\n",
       "    </tr>\n",
       "    <tr>\n",
       "      <th>1</th>\n",
       "      <td>1871</td>\n",
       "      <td>NaN</td>\n",
       "      <td>CH1</td>\n",
       "      <td>CNA</td>\n",
       "      <td>NaN</td>\n",
       "      <td>2</td>\n",
       "      <td>28</td>\n",
       "      <td>NaN</td>\n",
       "      <td>19</td>\n",
       "      <td>9</td>\n",
       "      <td>...</td>\n",
       "      <td>NaN</td>\n",
       "      <td>0.829</td>\n",
       "      <td>Chicago White Stockings</td>\n",
       "      <td>Union Base-Ball Grounds</td>\n",
       "      <td>NaN</td>\n",
       "      <td>104</td>\n",
       "      <td>102</td>\n",
       "      <td>CHI</td>\n",
       "      <td>CH1</td>\n",
       "      <td>CH1</td>\n",
       "    </tr>\n",
       "    <tr>\n",
       "      <th>2</th>\n",
       "      <td>1871</td>\n",
       "      <td>NaN</td>\n",
       "      <td>CL1</td>\n",
       "      <td>CFC</td>\n",
       "      <td>NaN</td>\n",
       "      <td>8</td>\n",
       "      <td>29</td>\n",
       "      <td>NaN</td>\n",
       "      <td>10</td>\n",
       "      <td>19</td>\n",
       "      <td>...</td>\n",
       "      <td>NaN</td>\n",
       "      <td>0.814</td>\n",
       "      <td>Cleveland Forest Citys</td>\n",
       "      <td>National Association Grounds</td>\n",
       "      <td>NaN</td>\n",
       "      <td>96</td>\n",
       "      <td>100</td>\n",
       "      <td>CLE</td>\n",
       "      <td>CL1</td>\n",
       "      <td>CL1</td>\n",
       "    </tr>\n",
       "    <tr>\n",
       "      <th>3</th>\n",
       "      <td>1871</td>\n",
       "      <td>NaN</td>\n",
       "      <td>FW1</td>\n",
       "      <td>KEK</td>\n",
       "      <td>NaN</td>\n",
       "      <td>7</td>\n",
       "      <td>19</td>\n",
       "      <td>NaN</td>\n",
       "      <td>7</td>\n",
       "      <td>12</td>\n",
       "      <td>...</td>\n",
       "      <td>NaN</td>\n",
       "      <td>0.803</td>\n",
       "      <td>Fort Wayne Kekiongas</td>\n",
       "      <td>Hamilton Field</td>\n",
       "      <td>NaN</td>\n",
       "      <td>101</td>\n",
       "      <td>107</td>\n",
       "      <td>KEK</td>\n",
       "      <td>FW1</td>\n",
       "      <td>FW1</td>\n",
       "    </tr>\n",
       "    <tr>\n",
       "      <th>4</th>\n",
       "      <td>1871</td>\n",
       "      <td>NaN</td>\n",
       "      <td>NY2</td>\n",
       "      <td>NNA</td>\n",
       "      <td>NaN</td>\n",
       "      <td>5</td>\n",
       "      <td>33</td>\n",
       "      <td>NaN</td>\n",
       "      <td>16</td>\n",
       "      <td>17</td>\n",
       "      <td>...</td>\n",
       "      <td>NaN</td>\n",
       "      <td>0.839</td>\n",
       "      <td>New York Mutuals</td>\n",
       "      <td>Union Grounds (Brooklyn)</td>\n",
       "      <td>NaN</td>\n",
       "      <td>90</td>\n",
       "      <td>88</td>\n",
       "      <td>NYU</td>\n",
       "      <td>NY2</td>\n",
       "      <td>NY2</td>\n",
       "    </tr>\n",
       "  </tbody>\n",
       "</table>\n",
       "<p>5 rows × 48 columns</p>\n",
       "</div>"
      ],
      "text/plain": [
       "   yearID lgID teamID franchID divID  Rank   G  Ghome   W   L     ...       \\\n",
       "0    1871  NaN    BS1      BNA   NaN     3  31    NaN  20  10     ...        \n",
       "1    1871  NaN    CH1      CNA   NaN     2  28    NaN  19   9     ...        \n",
       "2    1871  NaN    CL1      CFC   NaN     8  29    NaN  10  19     ...        \n",
       "3    1871  NaN    FW1      KEK   NaN     7  19    NaN   7  12     ...        \n",
       "4    1871  NaN    NY2      NNA   NaN     5  33    NaN  16  17     ...        \n",
       "\n",
       "   DP     FP                     name                          park  \\\n",
       "0 NaN  0.838     Boston Red Stockings           South End Grounds I   \n",
       "1 NaN  0.829  Chicago White Stockings       Union Base-Ball Grounds   \n",
       "2 NaN  0.814   Cleveland Forest Citys  National Association Grounds   \n",
       "3 NaN  0.803     Fort Wayne Kekiongas                Hamilton Field   \n",
       "4 NaN  0.839         New York Mutuals      Union Grounds (Brooklyn)   \n",
       "\n",
       "   attendance  BPF  PPF  teamIDBR  teamIDlahman45  teamIDretro  \n",
       "0         NaN  103   98       BOS             BS1          BS1  \n",
       "1         NaN  104  102       CHI             CH1          CH1  \n",
       "2         NaN   96  100       CLE             CL1          CL1  \n",
       "3         NaN  101  107       KEK             FW1          FW1  \n",
       "4         NaN   90   88       NYU             NY2          NY2  \n",
       "\n",
       "[5 rows x 48 columns]"
      ]
     },
     "execution_count": 4,
     "metadata": {},
     "output_type": "execute_result"
    }
   ],
   "source": [
    "teams_df.head()"
   ]
  },
  {
   "cell_type": "markdown",
   "metadata": {},
   "source": [
    "Since we have data of over 100 years and salaries cannot be compared from different years due to inflation. I will only compare teams or players within the same year. I will the latest year, 2016, as an example for the analysis.\n",
    "For the first question, I will list all the teams out in the same year and to compare team's numbers of wins and sum of salaries."
   ]
  },
  {
   "cell_type": "code",
   "execution_count": 5,
   "metadata": {
    "collapsed": true
   },
   "outputs": [],
   "source": [
    "year = 2016"
   ]
  },
  {
   "cell_type": "markdown",
   "metadata": {},
   "source": [
    "I will set up the default float with 3 digits."
   ]
  },
  {
   "cell_type": "code",
   "execution_count": 6,
   "metadata": {
    "collapsed": true
   },
   "outputs": [],
   "source": [
    "pd.set_option('display.float_format', lambda x: '%.3f' % x)"
   ]
  },
  {
   "cell_type": "markdown",
   "metadata": {},
   "source": [
    "I merge two tables, salary table and team table, and I sum up all players' salaries in same teams separately, so I can have total salaries for each team in 2016. I will also remove rows with Nan on salaries for data cleaning. Since I am going to analyze the relationships between wins and variables, I will keep the column of 'W', which stands for wins. I added one column named 'costperwin' to find out how much a team cost to play a win game based on the team's salary."
   ]
  },
  {
   "cell_type": "code",
   "execution_count": 7,
   "metadata": {},
   "outputs": [
    {
     "data": {
      "text/html": [
       "<div>\n",
       "<style>\n",
       "    .dataframe thead tr:only-child th {\n",
       "        text-align: right;\n",
       "    }\n",
       "\n",
       "    .dataframe thead th {\n",
       "        text-align: left;\n",
       "    }\n",
       "\n",
       "    .dataframe tbody tr th {\n",
       "        vertical-align: top;\n",
       "    }\n",
       "</style>\n",
       "<table border=\"1\" class=\"dataframe\">\n",
       "  <thead>\n",
       "    <tr style=\"text-align: right;\">\n",
       "      <th></th>\n",
       "      <th>yearID</th>\n",
       "      <th>teamID</th>\n",
       "      <th>salary</th>\n",
       "      <th>W</th>\n",
       "      <th>costperwin</th>\n",
       "    </tr>\n",
       "  </thead>\n",
       "  <tbody>\n",
       "    <tr>\n",
       "      <th>17</th>\n",
       "      <td>2016</td>\n",
       "      <td>TEX</td>\n",
       "      <td>176038723</td>\n",
       "      <td>95.000</td>\n",
       "      <td>1853039.189</td>\n",
       "    </tr>\n",
       "    <tr>\n",
       "      <th>5</th>\n",
       "      <td>2016</td>\n",
       "      <td>CLE</td>\n",
       "      <td>74311900</td>\n",
       "      <td>94.000</td>\n",
       "      <td>790552.128</td>\n",
       "    </tr>\n",
       "    <tr>\n",
       "      <th>3</th>\n",
       "      <td>2016</td>\n",
       "      <td>BOS</td>\n",
       "      <td>188545761</td>\n",
       "      <td>93.000</td>\n",
       "      <td>2027373.774</td>\n",
       "    </tr>\n",
       "    <tr>\n",
       "      <th>18</th>\n",
       "      <td>2016</td>\n",
       "      <td>TOR</td>\n",
       "      <td>138701700</td>\n",
       "      <td>89.000</td>\n",
       "      <td>1558446.067</td>\n",
       "    </tr>\n",
       "    <tr>\n",
       "      <th>2</th>\n",
       "      <td>2016</td>\n",
       "      <td>BAL</td>\n",
       "      <td>161863456</td>\n",
       "      <td>89.000</td>\n",
       "      <td>1818690.517</td>\n",
       "    </tr>\n",
       "  </tbody>\n",
       "</table>\n",
       "</div>"
      ],
      "text/plain": [
       "    yearID teamID     salary      W  costperwin\n",
       "17    2016    TEX  176038723 95.000 1853039.189\n",
       "5     2016    CLE   74311900 94.000  790552.128\n",
       "3     2016    BOS  188545761 93.000 2027373.774\n",
       "18    2016    TOR  138701700 89.000 1558446.067\n",
       "2     2016    BAL  161863456 89.000 1818690.517"
      ]
     },
     "execution_count": 7,
     "metadata": {},
     "output_type": "execute_result"
    }
   ],
   "source": [
    "# I grouped salary of the whole team by year and team and merge it with the table of teams.\n",
    "team_salaries_df_full =pd.merge(salaries_df.groupby(['yearID','teamID'],as_index=False).sum(),teams_df,on=['yearID','teamID'],how = 'left')\n",
    "#remove teams that have Nan data and pick the year\n",
    "team_salaries_in_the_year =  team_salaries_df_full[team_salaries_df_full['yearID']==year]\n",
    "team_salaries_df=team_salaries_in_the_year[np.isfinite(team_salaries_in_the_year['W'])].reset_index()\n",
    "# Add a column of cost per win\n",
    "team_salaries_df = team_salaries_df[['yearID','teamID','salary','W']].assign (costperwin = lambda x: x.salary/x.W)\n",
    "# Sort the table with the number of wins in a decending order\n",
    "team_salaries_df = team_salaries_df.sort_values(['W'],ascending =[False])\n",
    "team_salaries_df.head()\n"
   ]
  },
  {
   "cell_type": "markdown",
   "metadata": {},
   "source": [
    "I think scoring is very important to get wins. In order to keep the table clear, I only keep columns of R (runs), H (hits), 2B(doubles), 3B(tribles) and HR(homeruns)."
   ]
  },
  {
   "cell_type": "code",
   "execution_count": 8,
   "metadata": {},
   "outputs": [
    {
     "data": {
      "text/html": [
       "<div>\n",
       "<style>\n",
       "    .dataframe thead tr:only-child th {\n",
       "        text-align: right;\n",
       "    }\n",
       "\n",
       "    .dataframe thead th {\n",
       "        text-align: left;\n",
       "    }\n",
       "\n",
       "    .dataframe tbody tr th {\n",
       "        vertical-align: top;\n",
       "    }\n",
       "</style>\n",
       "<table border=\"1\" class=\"dataframe\">\n",
       "  <thead>\n",
       "    <tr style=\"text-align: right;\">\n",
       "      <th></th>\n",
       "      <th>yearID</th>\n",
       "      <th>teamID</th>\n",
       "      <th>W</th>\n",
       "      <th>R</th>\n",
       "      <th>H</th>\n",
       "      <th>2B</th>\n",
       "      <th>3B</th>\n",
       "      <th>HR</th>\n",
       "    </tr>\n",
       "  </thead>\n",
       "  <tbody>\n",
       "    <tr>\n",
       "      <th>5</th>\n",
       "      <td>2016</td>\n",
       "      <td>CHN</td>\n",
       "      <td>103</td>\n",
       "      <td>808</td>\n",
       "      <td>1409</td>\n",
       "      <td>293</td>\n",
       "      <td>30</td>\n",
       "      <td>199</td>\n",
       "    </tr>\n",
       "    <tr>\n",
       "      <th>29</th>\n",
       "      <td>2016</td>\n",
       "      <td>WAS</td>\n",
       "      <td>95</td>\n",
       "      <td>763</td>\n",
       "      <td>1403</td>\n",
       "      <td>268</td>\n",
       "      <td>29</td>\n",
       "      <td>203</td>\n",
       "    </tr>\n",
       "    <tr>\n",
       "      <th>27</th>\n",
       "      <td>2016</td>\n",
       "      <td>TEX</td>\n",
       "      <td>95</td>\n",
       "      <td>765</td>\n",
       "      <td>1446</td>\n",
       "      <td>257</td>\n",
       "      <td>23</td>\n",
       "      <td>215</td>\n",
       "    </tr>\n",
       "    <tr>\n",
       "      <th>7</th>\n",
       "      <td>2016</td>\n",
       "      <td>CLE</td>\n",
       "      <td>94</td>\n",
       "      <td>777</td>\n",
       "      <td>1435</td>\n",
       "      <td>308</td>\n",
       "      <td>29</td>\n",
       "      <td>185</td>\n",
       "    </tr>\n",
       "    <tr>\n",
       "      <th>3</th>\n",
       "      <td>2016</td>\n",
       "      <td>BOS</td>\n",
       "      <td>93</td>\n",
       "      <td>878</td>\n",
       "      <td>1598</td>\n",
       "      <td>343</td>\n",
       "      <td>25</td>\n",
       "      <td>208</td>\n",
       "    </tr>\n",
       "  </tbody>\n",
       "</table>\n",
       "</div>"
      ],
      "text/plain": [
       "    yearID teamID    W    R     H   2B  3B   HR\n",
       "5     2016    CHN  103  808  1409  293  30  199\n",
       "29    2016    WAS   95  763  1403  268  29  203\n",
       "27    2016    TEX   95  765  1446  257  23  215\n",
       "7     2016    CLE   94  777  1435  308  29  185\n",
       "3     2016    BOS   93  878  1598  343  25  208"
      ]
     },
     "execution_count": 8,
     "metadata": {},
     "output_type": "execute_result"
    }
   ],
   "source": [
    "\n",
    "team_bases_df = teams_df[teams_df['yearID']== year].dropna(axis = 0, how = 'any').reset_index()[['yearID','teamID','W','R','H','2B','3B','HR']]\n",
    "team_bases_df = team_bases_df.sort_values(['W'],ascending =[False])\n",
    "team_bases_df.head()"
   ]
  },
  {
   "cell_type": "markdown",
   "metadata": {},
   "source": [
    "I created a function of standadization as well to standadize all the data for visualiztions and concatenated standardized data with the original data."
   ]
  },
  {
   "cell_type": "code",
   "execution_count": 9,
   "metadata": {
    "collapsed": true
   },
   "outputs": [],
   "source": [
    "def standardize (x):\n",
    "    meanx = x.mean()\n",
    "    stdx = x.std(ddof = 0)\n",
    "    return (x - meanx)/stdx\n",
    "\n",
    "team_salaries_df_std =pd.concat([team_salaries_df,team_salaries_df[['salary','W']].apply(standardize).rename(columns = {'salary':'stdsalary','W':'stdW'})],axis = 1)\n",
    "team_bases_df_std = pd.concat([team_bases_df,team_bases_df[['W','R','H','2B','3B','HR']].apply(standardize).rename(columns = {'W':'stdW','R':'stdR','H':'stdH','2B':'std2B','3B':'std3B','HR':'stdHR'})],axis = 1)\n"
   ]
  },
  {
   "cell_type": "markdown",
   "metadata": {},
   "source": [
    "Now I have tables of wins, salaries, runs and scorings, so I will create scatter plots to show relationsships between wins and these factors.\n",
    "Before that, I need to creat a function of scatters to visualize data. Since all data here are standardized, x=0 and y=0 are means for x axis and y axis separately and these two lines are highlighted with black.\n",
    "In order to find out correlations, I create a function named correlations to calculate the correlations between wins and factors to see if wins are correlated to any of them."
   ]
  },
  {
   "cell_type": "code",
   "execution_count": 10,
   "metadata": {},
   "outputs": [
    {
     "name": "stdout",
     "output_type": "stream",
     "text": [
      "Populating the interactive namespace from numpy and matplotlib\n"
     ]
    },
    {
     "data": {
      "image/png": "[encoded data removed]",
      "text/plain": [
       "<matplotlib.figure.Figure at 0xccdd080>"
      ]
     },
     "metadata": {},
     "output_type": "display_data"
    },
    {
     "data": {
      "text/plain": [
       "0.6144777278373326"
      ]
     },
     "execution_count": 10,
     "metadata": {},
     "output_type": "execute_result"
    }
   ],
   "source": [
    "# create a plot to see the relationships between salary and wins.\n",
    "%pylab inline\n",
    "import matplotlib.pyplot as plt\n",
    "import seaborn as sns\n",
    "def draw_plot_of_bases(db,bases,cr= 'b',legend_label = None):\n",
    "    plt.scatter(x = db[('std'+bases)],y = db['stdW'],color = cr,label = legend_label)\n",
    "    plt.xlabel('Standardized '+bases)\n",
    "    plt.ylabel('Standardized Wins')\n",
    "    plt.axvline(x = 0, color = 'black')\n",
    "    plt.axhline(y = 0, color = 'black')\n",
    "    plt.legend(numpoints=1, loc='center left', bbox_to_anchor=(1, 0.5))\n",
    "    plt.show()\n",
    "    \n",
    "def correlations (x,y):\n",
    "    meanx = x.mean()\n",
    "    meany = y.mean()\n",
    "    stdx = x.std(ddof=0)\n",
    "    stdy = y.std(ddof=0)\n",
    "    return (((x-meanx)/stdx)*((y-meany)/stdy)).mean()\n",
    "\n",
    "draw_plot_of_bases(team_salaries_df_std,'salary',legend_label = 'salary')\n",
    "correlations(team_salaries_df['W'],team_salaries_df['salary'])"
   ]
  },
  {
   "cell_type": "markdown",
   "metadata": {},
   "source": [
    "We can roughly find out the trend from the graph above. On the right of the graph, which has teams paying salaries more than the average, most teams wins more than the average as well. On the other side, most teams have fewer wins than the average. The value of Pearson's R is 0.614. It means the number of wins will increase while the salary of the entire team increases. Though it is not very significant but it still show the trend of the relationships."
   ]
  },
  {
   "cell_type": "code",
   "execution_count": 11,
   "metadata": {},
   "outputs": [
    {
     "data": {
      "image/png": "[encoded data removed]",
      "text/plain": [
       "<matplotlib.figure.Figure at 0xc9a3828>"
      ]
     },
     "metadata": {},
     "output_type": "display_data"
    }
   ],
   "source": [
    "draw_plot_of_bases(team_bases_df_std,'R','g',legend_label =  \"R: runs\")"
   ]
  },
  {
   "cell_type": "markdown",
   "metadata": {},
   "source": [
    "Correlation:"
   ]
  },
  {
   "cell_type": "code",
   "execution_count": 12,
   "metadata": {},
   "outputs": [
    {
     "data": {
      "text/plain": [
       "0.5412750741845679"
      ]
     },
     "execution_count": 12,
     "metadata": {},
     "output_type": "execute_result"
    }
   ],
   "source": [
    "correlations(team_bases_df['W'],team_bases_df['R'])"
   ]
  },
  {
   "cell_type": "markdown",
   "metadata": {},
   "source": [
    "The graph shows a trend between wins and runs. And the Pearson's R value shows a linear relationship between these two variables as well. The number of wins is positively related to runs. Teams with more wins generally had more runs in the games. "
   ]
  },
  {
   "cell_type": "code",
   "execution_count": 13,
   "metadata": {},
   "outputs": [
    {
     "data": {
      "image/png": "[encoded data removed]",
      "text/plain": [
       "<matplotlib.figure.Figure at 0xd2434a8>"
      ]
     },
     "metadata": {},
     "output_type": "display_data"
    }
   ],
   "source": [
    "draw_plot_of_bases(team_bases_df_std,'H','g',legend_label =  \"H: hits\")"
   ]
  },
  {
   "cell_type": "code",
   "execution_count": 14,
   "metadata": {},
   "outputs": [
    {
     "data": {
      "image/png": "[encoded data removed]",
      "text/plain": [
       "<matplotlib.figure.Figure at 0xd5e30b8>"
      ]
     },
     "metadata": {},
     "output_type": "display_data"
    }
   ],
   "source": [
    "draw_plot_of_bases(team_bases_df_std,'2B','y',legend_label =  '2B: Doubles')"
   ]
  },
  {
   "cell_type": "code",
   "execution_count": 15,
   "metadata": {},
   "outputs": [
    {
     "data": {
      "image/png": "[encoded data removed]",
      "text/plain": [
       "<matplotlib.figure.Figure at 0xd5672b0>"
      ]
     },
     "metadata": {},
     "output_type": "display_data"
    }
   ],
   "source": [
    "draw_plot_of_bases(team_bases_df_std,'3B','r','3B: Trible')"
   ]
  },
  {
   "cell_type": "markdown",
   "metadata": {},
   "source": [
    "Three graphs above, hit, 2B and 3B, do not show clear trends. The random distributions mean the wins and the hits, 2B and 3B may not be related. In other words, a team could have many hits or 2B but it might not have wins above average."
   ]
  },
  {
   "cell_type": "code",
   "execution_count": 16,
   "metadata": {},
   "outputs": [
    {
     "data": {
      "image/png": "[encoded data removed]",
      "text/plain": [
       "<matplotlib.figure.Figure at 0xd567d30>"
      ]
     },
     "metadata": {},
     "output_type": "display_data"
    }
   ],
   "source": [
    "draw_plot_of_bases(team_bases_df_std,'HR','black','HR: Homerun')"
   ]
  },
  {
   "cell_type": "markdown",
   "metadata": {},
   "source": [
    "Correlation:"
   ]
  },
  {
   "cell_type": "code",
   "execution_count": 17,
   "metadata": {},
   "outputs": [
    {
     "data": {
      "text/plain": [
       "0.3712290022454171"
      ]
     },
     "execution_count": 17,
     "metadata": {},
     "output_type": "execute_result"
    }
   ],
   "source": [
    "correlations(team_bases_df['W'],team_bases_df['HR'])"
   ]
  },
  {
   "cell_type": "markdown",
   "metadata": {},
   "source": [
    "The graph of homerun does not have very clear trend but we can still find it is positively related. The Pearson's R is 0.371. With the number of homeruns increasing, the wins increase as well, but that is not significant. This does make sense, since more homeruns bring more scores and the team has a higher possibility to win games."
   ]
  },
  {
   "cell_type": "markdown",
   "metadata": {},
   "source": [
    "From what we find out from all of these teams in 2016, we can see that the general trend that the more a team spend on salary, the higher possibility the team will have to get more wins. It seems not fair to small club with not much budget. Fortunately, I found a team with not much budge but still get many wins. That is Cleveland Indians. \n",
    "\n",
    "I will list the team table with teams' salaries in an ascending order of cost per win, and we can see how cost effective this team was in 2016."
   ]
  },
  {
   "cell_type": "code",
   "execution_count": 18,
   "metadata": {},
   "outputs": [
    {
     "data": {
      "text/html": [
       "<div>\n",
       "<style>\n",
       "    .dataframe thead tr:only-child th {\n",
       "        text-align: right;\n",
       "    }\n",
       "\n",
       "    .dataframe thead th {\n",
       "        text-align: left;\n",
       "    }\n",
       "\n",
       "    .dataframe tbody tr th {\n",
       "        vertical-align: top;\n",
       "    }\n",
       "</style>\n",
       "<table border=\"1\" class=\"dataframe\">\n",
       "  <thead>\n",
       "    <tr style=\"text-align: right;\">\n",
       "      <th></th>\n",
       "      <th>yearID</th>\n",
       "      <th>teamID</th>\n",
       "      <th>salary</th>\n",
       "      <th>W</th>\n",
       "      <th>costperwin</th>\n",
       "    </tr>\n",
       "  </thead>\n",
       "  <tbody>\n",
       "    <tr>\n",
       "      <th>5</th>\n",
       "      <td>2016</td>\n",
       "      <td>CLE</td>\n",
       "      <td>74311900</td>\n",
       "      <td>94.000</td>\n",
       "      <td>790552.128</td>\n",
       "    </tr>\n",
       "    <tr>\n",
       "      <th>10</th>\n",
       "      <td>2016</td>\n",
       "      <td>MIA</td>\n",
       "      <td>77314202</td>\n",
       "      <td>79.000</td>\n",
       "      <td>978660.785</td>\n",
       "    </tr>\n",
       "    <tr>\n",
       "      <th>8</th>\n",
       "      <td>2016</td>\n",
       "      <td>HOU</td>\n",
       "      <td>94893700</td>\n",
       "      <td>84.000</td>\n",
       "      <td>1129686.905</td>\n",
       "    </tr>\n",
       "    <tr>\n",
       "      <th>18</th>\n",
       "      <td>2016</td>\n",
       "      <td>TOR</td>\n",
       "      <td>138701700</td>\n",
       "      <td>89.000</td>\n",
       "      <td>1558446.067</td>\n",
       "    </tr>\n",
       "    <tr>\n",
       "      <th>16</th>\n",
       "      <td>2016</td>\n",
       "      <td>SEA</td>\n",
       "      <td>135683339</td>\n",
       "      <td>86.000</td>\n",
       "      <td>1577713.244</td>\n",
       "    </tr>\n",
       "    <tr>\n",
       "      <th>2</th>\n",
       "      <td>2016</td>\n",
       "      <td>BAL</td>\n",
       "      <td>161863456</td>\n",
       "      <td>89.000</td>\n",
       "      <td>1818690.517</td>\n",
       "    </tr>\n",
       "    <tr>\n",
       "      <th>17</th>\n",
       "      <td>2016</td>\n",
       "      <td>TEX</td>\n",
       "      <td>176038723</td>\n",
       "      <td>95.000</td>\n",
       "      <td>1853039.189</td>\n",
       "    </tr>\n",
       "    <tr>\n",
       "      <th>3</th>\n",
       "      <td>2016</td>\n",
       "      <td>BOS</td>\n",
       "      <td>188545761</td>\n",
       "      <td>93.000</td>\n",
       "      <td>2027373.774</td>\n",
       "    </tr>\n",
       "    <tr>\n",
       "      <th>7</th>\n",
       "      <td>2016</td>\n",
       "      <td>DET</td>\n",
       "      <td>194876481</td>\n",
       "      <td>86.000</td>\n",
       "      <td>2266005.593</td>\n",
       "    </tr>\n",
       "  </tbody>\n",
       "</table>\n",
       "</div>"
      ],
      "text/plain": [
       "    yearID teamID     salary      W  costperwin\n",
       "5     2016    CLE   74311900 94.000  790552.128\n",
       "10    2016    MIA   77314202 79.000  978660.785\n",
       "8     2016    HOU   94893700 84.000 1129686.905\n",
       "18    2016    TOR  138701700 89.000 1558446.067\n",
       "16    2016    SEA  135683339 86.000 1577713.244\n",
       "2     2016    BAL  161863456 89.000 1818690.517\n",
       "17    2016    TEX  176038723 95.000 1853039.189\n",
       "3     2016    BOS  188545761 93.000 2027373.774\n",
       "7     2016    DET  194876481 86.000 2266005.593"
      ]
     },
     "execution_count": 18,
     "metadata": {},
     "output_type": "execute_result"
    }
   ],
   "source": [
    "team_salaries_df[team_salaries_df['W']>team_salaries_df['W'].mean()].sort_values('costperwin')"
   ]
  },
  {
   "cell_type": "markdown",
   "metadata": {},
   "source": [
    "For all the teams with all the win rate over the average, Cleveland got the second highest win rate and the lowest cost per win.\n",
    "\n",
    "I will merge the table of batting and players' salaries to see this team's players individually and compare them to players from other teams."
   ]
  },
  {
   "cell_type": "code",
   "execution_count": 19,
   "metadata": {},
   "outputs": [
    {
     "data": {
      "text/html": [
       "<div>\n",
       "<style>\n",
       "    .dataframe thead tr:only-child th {\n",
       "        text-align: right;\n",
       "    }\n",
       "\n",
       "    .dataframe thead th {\n",
       "        text-align: left;\n",
       "    }\n",
       "\n",
       "    .dataframe tbody tr th {\n",
       "        vertical-align: top;\n",
       "    }\n",
       "</style>\n",
       "<table border=\"1\" class=\"dataframe\">\n",
       "  <thead>\n",
       "    <tr style=\"text-align: right;\">\n",
       "      <th></th>\n",
       "      <th>yearID</th>\n",
       "      <th>teamID</th>\n",
       "      <th>lgID</th>\n",
       "      <th>playerID</th>\n",
       "      <th>salary</th>\n",
       "      <th>stint</th>\n",
       "      <th>G</th>\n",
       "      <th>AB</th>\n",
       "      <th>R</th>\n",
       "      <th>H</th>\n",
       "      <th>...</th>\n",
       "      <th>RBI</th>\n",
       "      <th>SB</th>\n",
       "      <th>CS</th>\n",
       "      <th>BB</th>\n",
       "      <th>SO</th>\n",
       "      <th>IBB</th>\n",
       "      <th>HBP</th>\n",
       "      <th>SH</th>\n",
       "      <th>SF</th>\n",
       "      <th>GIDP</th>\n",
       "    </tr>\n",
       "  </thead>\n",
       "  <tbody>\n",
       "    <tr>\n",
       "      <th>25755</th>\n",
       "      <td>2016</td>\n",
       "      <td>CLE</td>\n",
       "      <td>AL</td>\n",
       "      <td>allenco01</td>\n",
       "      <td>4150000</td>\n",
       "      <td>1.000</td>\n",
       "      <td>67.000</td>\n",
       "      <td>0.000</td>\n",
       "      <td>0.000</td>\n",
       "      <td>0.000</td>\n",
       "      <td>...</td>\n",
       "      <td>0.000</td>\n",
       "      <td>0.000</td>\n",
       "      <td>0.000</td>\n",
       "      <td>0.000</td>\n",
       "      <td>0.000</td>\n",
       "      <td>0.000</td>\n",
       "      <td>0.000</td>\n",
       "      <td>0.000</td>\n",
       "      <td>0.000</td>\n",
       "      <td>0.000</td>\n",
       "    </tr>\n",
       "    <tr>\n",
       "      <th>25756</th>\n",
       "      <td>2016</td>\n",
       "      <td>CLE</td>\n",
       "      <td>AL</td>\n",
       "      <td>anderco01</td>\n",
       "      <td>511400</td>\n",
       "      <td>1.000</td>\n",
       "      <td>19.000</td>\n",
       "      <td>0.000</td>\n",
       "      <td>0.000</td>\n",
       "      <td>0.000</td>\n",
       "      <td>...</td>\n",
       "      <td>0.000</td>\n",
       "      <td>0.000</td>\n",
       "      <td>0.000</td>\n",
       "      <td>0.000</td>\n",
       "      <td>0.000</td>\n",
       "      <td>0.000</td>\n",
       "      <td>0.000</td>\n",
       "      <td>0.000</td>\n",
       "      <td>0.000</td>\n",
       "      <td>0.000</td>\n",
       "    </tr>\n",
       "    <tr>\n",
       "      <th>25757</th>\n",
       "      <td>2016</td>\n",
       "      <td>CLE</td>\n",
       "      <td>AL</td>\n",
       "      <td>bauertr01</td>\n",
       "      <td>1697500</td>\n",
       "      <td>1.000</td>\n",
       "      <td>35.000</td>\n",
       "      <td>5.000</td>\n",
       "      <td>0.000</td>\n",
       "      <td>0.000</td>\n",
       "      <td>...</td>\n",
       "      <td>0.000</td>\n",
       "      <td>0.000</td>\n",
       "      <td>0.000</td>\n",
       "      <td>0.000</td>\n",
       "      <td>5.000</td>\n",
       "      <td>0.000</td>\n",
       "      <td>0.000</td>\n",
       "      <td>1.000</td>\n",
       "      <td>0.000</td>\n",
       "      <td>0.000</td>\n",
       "    </tr>\n",
       "    <tr>\n",
       "      <th>25758</th>\n",
       "      <td>2016</td>\n",
       "      <td>CLE</td>\n",
       "      <td>AL</td>\n",
       "      <td>brantmi02</td>\n",
       "      <td>7375000</td>\n",
       "      <td>1.000</td>\n",
       "      <td>11.000</td>\n",
       "      <td>39.000</td>\n",
       "      <td>5.000</td>\n",
       "      <td>9.000</td>\n",
       "      <td>...</td>\n",
       "      <td>7.000</td>\n",
       "      <td>1.000</td>\n",
       "      <td>0.000</td>\n",
       "      <td>3.000</td>\n",
       "      <td>6.000</td>\n",
       "      <td>1.000</td>\n",
       "      <td>0.000</td>\n",
       "      <td>0.000</td>\n",
       "      <td>1.000</td>\n",
       "      <td>1.000</td>\n",
       "    </tr>\n",
       "    <tr>\n",
       "      <th>25759</th>\n",
       "      <td>2016</td>\n",
       "      <td>CLE</td>\n",
       "      <td>AL</td>\n",
       "      <td>byrdma01</td>\n",
       "      <td>1000000</td>\n",
       "      <td>1.000</td>\n",
       "      <td>34.000</td>\n",
       "      <td>115.000</td>\n",
       "      <td>11.000</td>\n",
       "      <td>31.000</td>\n",
       "      <td>...</td>\n",
       "      <td>19.000</td>\n",
       "      <td>0.000</td>\n",
       "      <td>0.000</td>\n",
       "      <td>11.000</td>\n",
       "      <td>38.000</td>\n",
       "      <td>1.000</td>\n",
       "      <td>0.000</td>\n",
       "      <td>0.000</td>\n",
       "      <td>3.000</td>\n",
       "      <td>1.000</td>\n",
       "    </tr>\n",
       "  </tbody>\n",
       "</table>\n",
       "<p>5 rows × 23 columns</p>\n",
       "</div>"
      ],
      "text/plain": [
       "       yearID teamID lgID   playerID   salary  stint      G      AB      R  \\\n",
       "25755    2016    CLE   AL  allenco01  4150000  1.000 67.000   0.000  0.000   \n",
       "25756    2016    CLE   AL  anderco01   511400  1.000 19.000   0.000  0.000   \n",
       "25757    2016    CLE   AL  bauertr01  1697500  1.000 35.000   5.000  0.000   \n",
       "25758    2016    CLE   AL  brantmi02  7375000  1.000 11.000  39.000  5.000   \n",
       "25759    2016    CLE   AL   byrdma01  1000000  1.000 34.000 115.000 11.000   \n",
       "\n",
       "           H  ...     RBI    SB    CS     BB     SO   IBB   HBP    SH    SF  \\\n",
       "25755  0.000  ...   0.000 0.000 0.000  0.000  0.000 0.000 0.000 0.000 0.000   \n",
       "25756  0.000  ...   0.000 0.000 0.000  0.000  0.000 0.000 0.000 0.000 0.000   \n",
       "25757  0.000  ...   0.000 0.000 0.000  0.000  5.000 0.000 0.000 1.000 0.000   \n",
       "25758  9.000  ...   7.000 1.000 0.000  3.000  6.000 1.000 0.000 0.000 1.000   \n",
       "25759 31.000  ...  19.000 0.000 0.000 11.000 38.000 1.000 0.000 0.000 3.000   \n",
       "\n",
       "       GIDP  \n",
       "25755 0.000  \n",
       "25756 0.000  \n",
       "25757 0.000  \n",
       "25758 1.000  \n",
       "25759 1.000  \n",
       "\n",
       "[5 rows x 23 columns]"
      ]
     },
     "execution_count": 19,
     "metadata": {},
     "output_type": "execute_result"
    }
   ],
   "source": [
    "batting_salary_df = pd.merge(salaries_df,batting_df,on = ['playerID','yearID','teamID','lgID'],how = 'left')\n",
    "batting_salary_df = batting_salary_df[np.isfinite(batting_salary_df['stint'])]\n",
    "batting_salary_CLE_2016 = batting_salary_df[((batting_salary_df['teamID'] == 'CLE') & (batting_salary_df['yearID'] == year))]\n",
    "batting_salary_CLE_2016.head()"
   ]
  },
  {
   "cell_type": "markdown",
   "metadata": {},
   "source": [
    "To see how Cleveland could fight Chicago Cubs in the world series with such a low cost of salary. Since runs are a main approach for a team to score in a game, I summarize the data of runs among all players in 2016.\n",
    "\n"
   ]
  },
  {
   "cell_type": "code",
   "execution_count": 20,
   "metadata": {},
   "outputs": [
    {
     "data": {
      "text/html": [
       "<div>\n",
       "<style>\n",
       "    .dataframe thead tr:only-child th {\n",
       "        text-align: right;\n",
       "    }\n",
       "\n",
       "    .dataframe thead th {\n",
       "        text-align: left;\n",
       "    }\n",
       "\n",
       "    .dataframe tbody tr th {\n",
       "        vertical-align: top;\n",
       "    }\n",
       "</style>\n",
       "<table border=\"1\" class=\"dataframe\">\n",
       "  <thead>\n",
       "    <tr style=\"text-align: right;\">\n",
       "      <th></th>\n",
       "      <th>R</th>\n",
       "    </tr>\n",
       "  </thead>\n",
       "  <tbody>\n",
       "    <tr>\n",
       "      <th>count</th>\n",
       "      <td>505.000</td>\n",
       "    </tr>\n",
       "    <tr>\n",
       "      <th>mean</th>\n",
       "      <td>23.966</td>\n",
       "    </tr>\n",
       "    <tr>\n",
       "      <th>std</th>\n",
       "      <td>32.613</td>\n",
       "    </tr>\n",
       "    <tr>\n",
       "      <th>min</th>\n",
       "      <td>0.000</td>\n",
       "    </tr>\n",
       "    <tr>\n",
       "      <th>25%</th>\n",
       "      <td>0.000</td>\n",
       "    </tr>\n",
       "    <tr>\n",
       "      <th>50%</th>\n",
       "      <td>3.000</td>\n",
       "    </tr>\n",
       "    <tr>\n",
       "      <th>75%</th>\n",
       "      <td>44.000</td>\n",
       "    </tr>\n",
       "    <tr>\n",
       "      <th>max</th>\n",
       "      <td>123.000</td>\n",
       "    </tr>\n",
       "  </tbody>\n",
       "</table>\n",
       "</div>"
      ],
      "text/plain": [
       "            R\n",
       "count 505.000\n",
       "mean   23.966\n",
       "std    32.613\n",
       "min     0.000\n",
       "25%     0.000\n",
       "50%     3.000\n",
       "75%    44.000\n",
       "max   123.000"
      ]
     },
     "execution_count": 20,
     "metadata": {},
     "output_type": "execute_result"
    }
   ],
   "source": [
    "batting_salary_df[batting_salary_df['yearID'] == year][['R']].describe()"
   ]
  },
  {
   "cell_type": "markdown",
   "metadata": {},
   "source": [
    "Since not all players are paid for runs, I will pick the top 25%, which are the players having runs over 44 in 2016, into the analysis to see how much players with many runs cost in a team."
   ]
  },
  {
   "cell_type": "code",
   "execution_count": 21,
   "metadata": {
    "scrolled": true
   },
   "outputs": [
    {
     "data": {
      "image/png": "[encoded data removed]",
      "text/plain": [
       "<matplotlib.figure.Figure at 0xce56630>"
      ]
     },
     "metadata": {},
     "output_type": "display_data"
    }
   ],
   "source": [
    "batting_salary_df_2016 = batting_salary_df[batting_salary_df['yearID'] == year]\n",
    "batting_salary_df_2016_44 = batting_salary_df_2016[batting_salary_df_2016['R']>44]\n",
    "\n",
    "batting_salary_df_2016_44_std = pd.concat([batting_salary_df_2016_44,batting_salary_df_2016_44[['salary','R']].apply(standardize).rename(columns = {'R':'stdR','salary':'stdsalary'})],axis = 1)\n",
    "def scatter_salary_runs(team,cr,lb):\n",
    "    return plt.scatter(x = batting_salary_df_2016_44_std[(batting_salary_df_2016_44_std['teamID'].apply(lambda x: x in team))]['stdsalary'],y = batting_salary_df_2016_44_std[(batting_salary_df_2016_44_std['teamID'].apply(lambda x: x in team))]['stdR'],color = cr,label = lb)\n",
    "teams_winrate_aboveavg = team_salaries_df[team_salaries_df['W']>team_salaries_df['W'].mean()]['teamID'].values\n",
    "\n",
    "scatter_salary_runs(teams_winrate_aboveavg,'g','players from teams of top 50%')\n",
    "\n",
    "scatter_salary_runs(['CLE'],'r','players from Cleveland Indians')\n",
    "#plt.scatter(x = batting_salary_df_2016_44_std['stdsalary'],y = batting_salary_df_2016_44_std['stdR'],facecolor = 'b',alpha = 0.5, label = 'Runs')\n",
    "\n",
    "#plt.scatter(x = batting_salary_df_2016_44_std[(batting_salary_df_2016_44_std['teamID'] == 'CLE')]['stdsalary'],y = batting_salary_df_2016_44_std[(batting_salary_df_2016_44_std['teamID'] == 'CLE')]['stdR'],color = 'r',label = 'CLE')\n",
    "#plt.scatter(x = batting_salary_df_2016_44_std[(batting_salary_df_2016_44_std['teamID'] == 'TEX')]['stdsalary'],y = batting_salary_df_2016_44_std[(batting_salary_df_2016_44_std['teamID'] == 'TEX')]['stdR'],color = 'g',label = 'TEX')\n",
    "plt.xlabel('Standardized salary')\n",
    "plt.ylabel('Standardized runs')\n",
    "plt.axvline(x = np.median(batting_salary_df_2016_44_std['stdsalary']), color = 'black')\n",
    "plt.axhline(y = np.median(batting_salary_df_2016_44_std['stdR']), color = 'black')\n",
    "plt.legend(numpoints=1, loc='center left', bbox_to_anchor=(1, 0.5))\n",
    "plt.show()"
   ]
  },
  {
   "cell_type": "markdown",
   "metadata": {},
   "source": [
    "The vertical line is the median of salary and the horizontal line is the median of runs from all of players. In this graph, I just pick teams have wins above average and players have runs in the top 25%, which are above 44. For players with salaries below the median, we can find Cleveland Indians has three players in this area and two of them have runs over median runs. These three players were paid almost minimum wages. And for players above median salaries, Cleveland Indians has four players and they all have runs over the median runs. Even comparing to players having higher salary, these four players still perform better than most of them. \n",
    "If we dig a little bit deeper, we can find these three players,José Ramírez, Tyler Naquin, Francisco Lindor, who have salaries lower than the median are very young and they all played no more than 5 years."
   ]
  },
  {
   "cell_type": "markdown",
   "metadata": {},
   "source": [
    "Comparing Cleveland Indians to other teams can help me to see how effective it is. I will create two pie chart, each demonstrating percentage each team took in salaries and runs among the top 9 teams. "
   ]
  },
  {
   "cell_type": "code",
   "execution_count": 22,
   "metadata": {},
   "outputs": [],
   "source": [
    "team_salaries_bases_df = team_salaries_df.merge(team_bases_df,left_on = ['teamID','yearID','W'], right_on = ['teamID','yearID','W'], how = 'inner')"
   ]
  },
  {
   "cell_type": "code",
   "execution_count": 23,
   "metadata": {},
   "outputs": [
    {
     "data": {
      "image/png": "[encoded data removed]",
      "text/plain": [
       "<matplotlib.figure.Figure at 0xcd44710>"
      ]
     },
     "metadata": {},
     "output_type": "display_data"
    },
    {
     "data": {
      "image/png": "[encoded data removed]",
      "text/plain": [
       "<matplotlib.figure.Figure at 0xd295358>"
      ]
     },
     "metadata": {},
     "output_type": "display_data"
    }
   ],
   "source": [
    "\n",
    "team_salaries_bases_df[team_salaries_bases_df['teamID'].apply(lambda x: x in teams_winrate_aboveavg)]['salary'].plot.pie(labels = team_salaries_bases_df['teamID'], autopct='%.2f',figsize=(6,6))\n",
    "plt.show()\n",
    "team_salaries_bases_df[team_salaries_bases_df['teamID'].apply(lambda x: x in teams_winrate_aboveavg)]['R'].plot.pie(labels = team_salaries_bases_df['teamID'], autopct='%.2f',figsize=(6,6))\n",
    "plt.show()\n"
   ]
  },
  {
   "cell_type": "markdown",
   "metadata": {},
   "source": [
    "Two pie charts above show the salary and runs from the top 9 teams in the league in the year of 2016. We can see Cleveland Indians spends the least, only 5.98% of salaries of all the 9 teams, but has the second highest number of runs, 11.39%. That is a high return for Cleveland at such a low cost. "
   ]
  },
  {
   "cell_type": "markdown",
   "metadata": {},
   "source": [
    "## Conclusion"
   ]
  },
  {
   "cell_type": "markdown",
   "metadata": {},
   "source": [
    "In order to find out factors affecting wins, this dataset does not have enough data to interpret correlations between wins and factors above. Information from coarches and weathers could be another factors inluencing win rate. For now, we can roughly see trends between wins and some variables, but a more detailed model should be found by regressions or machine learning, which are not involved here.\n",
    "\n",
    "We can still find something interesting from what we have. In the year of 2016, I found the number of wins of a team was positively related to the salaries of the team, runs and the number of homeruns. However, it does not mean a team with higher salaries, more runs and homeruns can get more wins. \n",
    "\n",
    "However, a team with relatively low salaries has chances to win. Cleveland Indians whose players with low salaries performed outstandingly can also gain tons of wins. Teams with low salaries of player can win a lot and even as good as some big teams, but that is not usual since Cleveland is still the only one that can play such well among all the other teams with salaries lower than the average."
   ]
  }
 ],
 "metadata": {
  "anaconda-cloud": {},
  "kernelspec": {
   "display_name": "Python [conda root]",
   "language": "python",
   "name": "conda-root-py"
  },
  "language_info": {
   "codemirror_mode": {
    "name": "ipython",
    "version": 2
   },
   "file_extension": ".py",
   "mimetype": "text/x-python",
   "name": "python",
   "nbconvert_exporter": "python",
   "pygments_lexer": "ipython2",
   "version": "2.7.12"
  }
 },
 "nbformat": 4,
 "nbformat_minor": 1
}
